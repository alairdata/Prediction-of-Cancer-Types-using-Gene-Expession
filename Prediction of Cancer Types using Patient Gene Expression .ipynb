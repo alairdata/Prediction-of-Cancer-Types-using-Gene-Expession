{
 "cells": [
  {
   "cell_type": "markdown",
   "id": "99dc41e6",
   "metadata": {},
   "source": [
    "# Project By: Princilla Abena Koranteng"
   ]
  },
  {
   "cell_type": "markdown",
   "id": "d4e50e71",
   "metadata": {},
   "source": [
    "# PREDICTION OF CANCER TYPE USING PATIENT GENE EXPRESSION"
   ]
  },
  {
   "cell_type": "markdown",
   "id": "20d81767",
   "metadata": {},
   "source": [
    "# PROBLEM STATEMENT \n",
    "\n",
    "Cancer has become one of the major factors responsible for global deaths, due to late diagnoses and lack of proper treatment. It involves the abnormal and uncontrolled growth of cells inside the body, which might spread from one place to different parts. Ribonucleic acid (RNA) sequencing can detect the changes occurring inside cells and helps to analyze the transcriptome of gene expression patterns inside RNA. Machine learning techniques can assist in the prediction of cancer at an early stage, if data is available. \n",
    "\n",
    "## Objectives\n",
    "The objective for this project is to build models and classify the different cancer types using RNA-seq gene expression data.\n",
    "\n",
    "For this purpose we implemented supervised models to classify the samples collected using the labels and compare the performance of the respective models."
   ]
  },
  {
   "cell_type": "markdown",
   "id": "b05c990e",
   "metadata": {},
   "source": [
    "## Data Description\n",
    "The dataset was collected from UCI Machine Learning Repository. The rows represent the observations gene expressions of patients having different types of tumors (cancer types). The last column contains the cancer types as listed below:\n",
    "- BRCA for Breast Cancer\n",
    "- KIRC for Renal Cancer (Kidney Renal Clear Cell Carcinoma)\n",
    "- LUAD for Lung Cancer (Lung adenocarcinoma)\n",
    "- PRAD for Prostate Cancer (Prostate adenocarcinoma)\n",
    "- COAD fro Colon adenocarcinoma\n",
    "\n"
   ]
  },
  {
   "cell_type": "markdown",
   "id": "accd2cb3",
   "metadata": {},
   "source": [
    "## Machine Learning Workflow\n",
    "[1. Import Python Libraries](#Import-Python-libraries)\n",
    "\n",
    "[2. Importing data](#Importing-data)\n",
    "\n",
    "[3. Data Exploration & Cleaning](#Data-Exploration-&-Cleaning)\n",
    "\n",
    "[4. Data Preprocesing](#Data-preprocesing)\n",
    "\n",
    "[5. Building & Evaluation of Model](#Building-the-model)\n",
    "\n",
    "   * [-KNeighbours Classifier](#KNeighborsClassifier)\n",
    "   \n",
    "   * [-Logistic Regression](#Logistic-Regression)\n",
    "   \n",
    "   * [-SGDClassifier](#SGDClassifier)\n",
    "   * [-RandomForest Classifier](#RandomForestClassifier)\n",
    "   * [-Decision Tree Classifier](#Decision-Tree-Classifier)\n",
    "   * [-Voting Classifier](#VotingClassifier)  \n",
    "   * [-XGBoost](#XGBoost)\n",
    "   * [-BaggingClassifier](#BaggingClassifier)\n",
    "   * [-AdaBoostClassifier](#AdaBoostClassifier)\n",
    "    \n",
    "[6. Result](#RESULT)   "
   ]
  },
  {
   "cell_type": "markdown",
   "id": "91f3dde3",
   "metadata": {},
   "source": [
    "## Import Python libraries"
   ]
  },
  {
   "cell_type": "code",
   "execution_count": 15,
   "id": "a0515dec",
   "metadata": {},
   "outputs": [
    {
     "ename": "ModuleNotFoundError",
     "evalue": "No module named 'yellowbrick'",
     "output_type": "error",
     "traceback": [
      "\u001b[1;31m---------------------------------------------------------------------------\u001b[0m",
      "\u001b[1;31mModuleNotFoundError\u001b[0m                       Traceback (most recent call last)",
      "Input \u001b[1;32mIn [15]\u001b[0m, in \u001b[0;36m<cell line: 37>\u001b[1;34m()\u001b[0m\n\u001b[0;32m     33\u001b[0m \u001b[38;5;28;01mfrom\u001b[39;00m \u001b[38;5;21;01msklearn\u001b[39;00m\u001b[38;5;21;01m.\u001b[39;00m\u001b[38;5;21;01mdiscriminant_analysis\u001b[39;00m \u001b[38;5;28;01mimport\u001b[39;00m LinearDiscriminantAnalysis\n\u001b[0;32m     34\u001b[0m \u001b[38;5;28;01mfrom\u001b[39;00m \u001b[38;5;21;01msklearn\u001b[39;00m\u001b[38;5;21;01m.\u001b[39;00m\u001b[38;5;21;01mdecomposition\u001b[39;00m \u001b[38;5;28;01mimport\u001b[39;00m PCA\n\u001b[1;32m---> 37\u001b[0m \u001b[38;5;28;01mfrom\u001b[39;00m \u001b[38;5;21;01myellowbrick\u001b[39;00m\u001b[38;5;21;01m.\u001b[39;00m\u001b[38;5;21;01mclassifier\u001b[39;00m \u001b[38;5;28;01mimport\u001b[39;00m ROCAUC\n",
      "\u001b[1;31mModuleNotFoundError\u001b[0m: No module named 'yellowbrick'"
     ]
    }
   ],
   "source": [
    "#data handling\n",
    "import pandas as pd\n",
    "import numpy as np\n",
    "\n",
    "#data visualization\n",
    "import matplotlib.pyplot as plt\n",
    "import seaborn as sns\n",
    "\n",
    "#preprocessing\n",
    "from sklearn.model_selection import train_test_split\n",
    "from sklearn.preprocessing import LabelEncoder\n",
    "from sklearn.preprocessing import label_binarize\n",
    "from sklearn.preprocessing import StandardScaler\n",
    "\n",
    "#classification\n",
    "from sklearn.ensemble import RandomForestClassifier\n",
    "\n",
    "# performance metrics\n",
    "from sklearn.metrics import f1_score,precision_score, recall_score,make_scorer\n",
    "from sklearn.metrics import classification_report\n",
    "from sklearn.metrics import confusion_matrix\n",
    "from sklearn.metrics import plot_confusion_matrix\n",
    "from sklearn.metrics import roc_curve,auc\n",
    "from sklearn.metrics import roc_auc_score\n",
    "\n",
    "#Pipeline\n",
    "from sklearn.pipeline import Pipeline\n",
    "\n",
    "#Model Selection\n",
    "from sklearn.model_selection import RandomizedSearchCV\n",
    "\n",
    "# Decomposition\n",
    "from sklearn.decomposition import PCA"
   ]
  },
  {
   "cell_type": "code",
   "execution_count": 24,
   "id": "b839234a",
   "metadata": {},
   "outputs": [
    {
     "name": "stdout",
     "output_type": "stream",
     "text": [
      "Collecting yellowbrick\n",
      "  Downloading yellowbrick-1.5-py3-none-any.whl (282 kB)\n",
      "Requirement already satisfied: matplotlib!=3.0.0,>=2.0.2 in c:\\users\\isaac femi\\anaconda3\\lib\\site-packages (from yellowbrick) (3.5.1)\n",
      "Requirement already satisfied: numpy>=1.16.0 in c:\\users\\isaac femi\\anaconda3\\lib\\site-packages (from yellowbrick) (1.21.5)\n",
      "Requirement already satisfied: scikit-learn>=1.0.0 in c:\\users\\isaac femi\\anaconda3\\lib\\site-packages (from yellowbrick) (1.0.2)\n",
      "Requirement already satisfied: cycler>=0.10.0 in c:\\users\\isaac femi\\anaconda3\\lib\\site-packages (from yellowbrick) (0.11.0)\n",
      "Requirement already satisfied: scipy>=1.0.0 in c:\\users\\isaac femi\\anaconda3\\lib\\site-packages (from yellowbrick) (1.7.3)\n",
      "Requirement already satisfied: fonttools>=4.22.0 in c:\\users\\isaac femi\\anaconda3\\lib\\site-packages (from matplotlib!=3.0.0,>=2.0.2->yellowbrick) (4.25.0)\n",
      "Requirement already satisfied: pyparsing>=2.2.1 in c:\\users\\isaac femi\\anaconda3\\lib\\site-packages (from matplotlib!=3.0.0,>=2.0.2->yellowbrick) (3.0.4)\n",
      "Requirement already satisfied: kiwisolver>=1.0.1 in c:\\users\\isaac femi\\anaconda3\\lib\\site-packages (from matplotlib!=3.0.0,>=2.0.2->yellowbrick) (1.3.2)\n",
      "Requirement already satisfied: pillow>=6.2.0 in c:\\users\\isaac femi\\anaconda3\\lib\\site-packages (from matplotlib!=3.0.0,>=2.0.2->yellowbrick) (9.0.1)\n",
      "Requirement already satisfied: packaging>=20.0 in c:\\users\\isaac femi\\anaconda3\\lib\\site-packages (from matplotlib!=3.0.0,>=2.0.2->yellowbrick) (21.3)\n",
      "Requirement already satisfied: python-dateutil>=2.7 in c:\\users\\isaac femi\\anaconda3\\lib\\site-packages (from matplotlib!=3.0.0,>=2.0.2->yellowbrick) (2.8.2)\n",
      "Requirement already satisfied: six>=1.5 in c:\\users\\isaac femi\\anaconda3\\lib\\site-packages (from python-dateutil>=2.7->matplotlib!=3.0.0,>=2.0.2->yellowbrick) (1.16.0)\n",
      "Requirement already satisfied: threadpoolctl>=2.0.0 in c:\\users\\isaac femi\\anaconda3\\lib\\site-packages (from scikit-learn>=1.0.0->yellowbrick) (2.2.0)\n",
      "Requirement already satisfied: joblib>=0.11 in c:\\users\\isaac femi\\anaconda3\\lib\\site-packages (from scikit-learn>=1.0.0->yellowbrick) (1.1.0)\n",
      "Installing collected packages: yellowbrick\n",
      "Successfully installed yellowbrick-1.5\n"
     ]
    }
   ],
   "source": [
    "# yellowbrick installation\n",
    "!pip install yellowbrick"
   ]
  },
  {
   "cell_type": "code",
   "execution_count": 25,
   "id": "0f54b621",
   "metadata": {},
   "outputs": [],
   "source": [
    "from yellowbrick.classifier import ROCAUC"
   ]
  },
  {
   "cell_type": "markdown",
   "id": "b45976a3",
   "metadata": {},
   "source": [
    "## Importing data"
   ]
  },
  {
   "cell_type": "code",
   "execution_count": 2,
   "id": "25a5cb29",
   "metadata": {},
   "outputs": [
    {
     "data": {
      "text/html": [
       "<div>\n",
       "<style scoped>\n",
       "    .dataframe tbody tr th:only-of-type {\n",
       "        vertical-align: middle;\n",
       "    }\n",
       "\n",
       "    .dataframe tbody tr th {\n",
       "        vertical-align: top;\n",
       "    }\n",
       "\n",
       "    .dataframe thead th {\n",
       "        text-align: right;\n",
       "    }\n",
       "</style>\n",
       "<table border=\"1\" class=\"dataframe\">\n",
       "  <thead>\n",
       "    <tr style=\"text-align: right;\">\n",
       "      <th></th>\n",
       "      <th>gene_1</th>\n",
       "      <th>gene_2</th>\n",
       "      <th>gene_3</th>\n",
       "      <th>gene_4</th>\n",
       "      <th>gene_5</th>\n",
       "      <th>gene_6</th>\n",
       "      <th>gene_7</th>\n",
       "      <th>gene_8</th>\n",
       "      <th>gene_9</th>\n",
       "      <th>gene_10</th>\n",
       "      <th>...</th>\n",
       "      <th>gene_7992</th>\n",
       "      <th>gene_7993</th>\n",
       "      <th>gene_7994</th>\n",
       "      <th>gene_7995</th>\n",
       "      <th>gene_7996</th>\n",
       "      <th>gene_7997</th>\n",
       "      <th>gene_7998</th>\n",
       "      <th>gene_7999</th>\n",
       "      <th>gene_8000</th>\n",
       "      <th>Cancer_Type</th>\n",
       "    </tr>\n",
       "  </thead>\n",
       "  <tbody>\n",
       "    <tr>\n",
       "      <th>0</th>\n",
       "      <td>0.0</td>\n",
       "      <td>0.0</td>\n",
       "      <td>0.0</td>\n",
       "      <td>2.088413</td>\n",
       "      <td>0.0</td>\n",
       "      <td>0.0</td>\n",
       "      <td>0.0</td>\n",
       "      <td>0.0</td>\n",
       "      <td>0.550605</td>\n",
       "      <td>2.815760</td>\n",
       "      <td>...</td>\n",
       "      <td>11.558803</td>\n",
       "      <td>8.881802</td>\n",
       "      <td>6.014840</td>\n",
       "      <td>6.643534</td>\n",
       "      <td>11.740624</td>\n",
       "      <td>7.065012</td>\n",
       "      <td>9.932659</td>\n",
       "      <td>6.928584</td>\n",
       "      <td>2.088413</td>\n",
       "      <td>KIRC</td>\n",
       "    </tr>\n",
       "    <tr>\n",
       "      <th>1</th>\n",
       "      <td>0.0</td>\n",
       "      <td>0.0</td>\n",
       "      <td>0.0</td>\n",
       "      <td>3.205955</td>\n",
       "      <td>0.0</td>\n",
       "      <td>0.0</td>\n",
       "      <td>0.0</td>\n",
       "      <td>0.0</td>\n",
       "      <td>0.425244</td>\n",
       "      <td>2.354396</td>\n",
       "      <td>...</td>\n",
       "      <td>11.062829</td>\n",
       "      <td>9.032864</td>\n",
       "      <td>5.054193</td>\n",
       "      <td>6.432320</td>\n",
       "      <td>12.104985</td>\n",
       "      <td>7.300746</td>\n",
       "      <td>9.872796</td>\n",
       "      <td>5.039231</td>\n",
       "      <td>2.448002</td>\n",
       "      <td>KIRC</td>\n",
       "    </tr>\n",
       "    <tr>\n",
       "      <th>2</th>\n",
       "      <td>0.0</td>\n",
       "      <td>0.0</td>\n",
       "      <td>0.0</td>\n",
       "      <td>4.746646</td>\n",
       "      <td>0.0</td>\n",
       "      <td>0.0</td>\n",
       "      <td>0.0</td>\n",
       "      <td>0.0</td>\n",
       "      <td>2.639417</td>\n",
       "      <td>1.657091</td>\n",
       "      <td>...</td>\n",
       "      <td>12.497640</td>\n",
       "      <td>7.198160</td>\n",
       "      <td>0.943434</td>\n",
       "      <td>7.371690</td>\n",
       "      <td>11.202356</td>\n",
       "      <td>8.426588</td>\n",
       "      <td>11.176890</td>\n",
       "      <td>3.119738</td>\n",
       "      <td>4.433988</td>\n",
       "      <td>BRCA</td>\n",
       "    </tr>\n",
       "  </tbody>\n",
       "</table>\n",
       "<p>3 rows × 8001 columns</p>\n",
       "</div>"
      ],
      "text/plain": [
       "   gene_1  gene_2  gene_3    gene_4  gene_5  gene_6  gene_7  gene_8    gene_9  \\\n",
       "0     0.0     0.0     0.0  2.088413     0.0     0.0     0.0     0.0  0.550605   \n",
       "1     0.0     0.0     0.0  3.205955     0.0     0.0     0.0     0.0  0.425244   \n",
       "2     0.0     0.0     0.0  4.746646     0.0     0.0     0.0     0.0  2.639417   \n",
       "\n",
       "    gene_10  ...  gene_7992  gene_7993  gene_7994  gene_7995  gene_7996  \\\n",
       "0  2.815760  ...  11.558803   8.881802   6.014840   6.643534  11.740624   \n",
       "1  2.354396  ...  11.062829   9.032864   5.054193   6.432320  12.104985   \n",
       "2  1.657091  ...  12.497640   7.198160   0.943434   7.371690  11.202356   \n",
       "\n",
       "   gene_7997  gene_7998  gene_7999  gene_8000  Cancer_Type  \n",
       "0   7.065012   9.932659   6.928584   2.088413         KIRC  \n",
       "1   7.300746   9.872796   5.039231   2.448002         KIRC  \n",
       "2   8.426588  11.176890   3.119738   4.433988         BRCA  \n",
       "\n",
       "[3 rows x 8001 columns]"
      ]
     },
     "execution_count": 2,
     "metadata": {},
     "output_type": "execute_result"
    }
   ],
   "source": [
    "\n",
    "#Importing data \n",
    "\n",
    "cancer_data = pd.read_csv('cancer_gene_expression.csv')\n",
    "cancer_data.head(3)\n"
   ]
  },
  {
   "cell_type": "code",
   "execution_count": null,
   "id": "a2f2cfb8",
   "metadata": {},
   "outputs": [],
   "source": []
  },
  {
   "cell_type": "markdown",
   "id": "e214ad93",
   "metadata": {},
   "source": [
    "\n",
    "## Data Exploration & Cleaning\n",
    "\n",
    "\n"
   ]
  },
  {
   "cell_type": "code",
   "execution_count": 3,
   "id": "18e48d71",
   "metadata": {
    "scrolled": true
   },
   "outputs": [
    {
     "data": {
      "text/plain": [
       "(801, 8001)"
      ]
     },
     "execution_count": 3,
     "metadata": {},
     "output_type": "execute_result"
    }
   ],
   "source": [
    "#let's check the number of samples and features\n",
    "#note:the last column contain the labels. it is not considered as a feature\n",
    "\n",
    "cancer_data.shape"
   ]
  },
  {
   "cell_type": "code",
   "execution_count": 4,
   "id": "5ff6d860",
   "metadata": {},
   "outputs": [
    {
     "name": "stdout",
     "output_type": "stream",
     "text": [
      "columns with missing values:0\n"
     ]
    }
   ],
   "source": [
    "#check for missing values\n",
    "datanul=cancer_data.isnull().sum()\n",
    "g=[i for i in datanul if i>0]\n",
    "\n",
    "print('columns with missing values:%d'%len(g))"
   ]
  },
  {
   "cell_type": "code",
   "execution_count": 5,
   "id": "f04d3638",
   "metadata": {},
   "outputs": [
    {
     "data": {
      "text/plain": [
       "Text(0.5, 0, 'Standard Deviation')"
      ]
     },
     "execution_count": 5,
     "metadata": {},
     "output_type": "execute_result"
    },
    {
     "data": {
      "image/png": "[encoded data removed]",
      "text/plain": [
       "<Figure size 432x288 with 1 Axes>"
      ]
     },
     "metadata": {
      "needs_background": "light"
     },
     "output_type": "display_data"
    }
   ],
   "source": [
    "plt.hist(cancer_data.iloc[:,:-1].std())\n",
    "plt.title('Distribution of Standard deviation across features')\n",
    "plt.xlabel('Standard Deviation')"
   ]
  },
  {
   "cell_type": "code",
   "execution_count": 6,
   "id": "cf1c0103",
   "metadata": {},
   "outputs": [
    {
     "data": {
      "text/plain": [
       "Text(0.5, 0, 'Mean')"
      ]
     },
     "execution_count": 6,
     "metadata": {},
     "output_type": "execute_result"
    },
    {
     "data": {
      "image/png": "[encoded data removed]",
      "text/plain": [
       "<Figure size 432x288 with 1 Axes>"
      ]
     },
     "metadata": {
      "needs_background": "light"
     },
     "output_type": "display_data"
    }
   ],
   "source": [
    "plt.hist(cancer_data.iloc[:,:-1].mean())\n",
    "plt.title('Distribution of Mean across features')\n",
    "plt.xlabel('Mean')"
   ]
  },
  {
   "cell_type": "markdown",
   "id": "9b27902e",
   "metadata": {},
   "source": [
    " Based on the graphs above it is noted that although most of the columns have their mean around 0, the standard deviation of the various columns are around 0.5.\n",
    " SInce it is required the standard deviation be 1 for normally distributed data, it is concluded that the data needs to be preprocessed with a scaler before building of models. This will normalize the data and improve effectiveness of the models"
   ]
  },
  {
   "cell_type": "code",
   "execution_count": null,
   "id": "229679e0",
   "metadata": {},
   "outputs": [],
   "source": []
  },
  {
   "cell_type": "code",
   "execution_count": 7,
   "id": "d0560c5a",
   "metadata": {
    "scrolled": true
   },
   "outputs": [
    {
     "name": "stdout",
     "output_type": "stream",
     "text": [
      "BRCA    300\n",
      "KIRC    146\n",
      "LUAD    141\n",
      "PRAD    136\n",
      "COAD     78\n",
      "Name: Cancer_Type, dtype: int64\n"
     ]
    }
   ],
   "source": [
    "#checking the counts of the different cancer types that are in the data\n",
    "\n",
    "print(cancer_data['Cancer_Type'].value_counts())"
   ]
  },
  {
   "cell_type": "markdown",
   "id": "046d64c6",
   "metadata": {},
   "source": [
    " It is noted that there are 5 classes/cancer types. Although the count of BRCA is quite high, it doesn't indicate imbalance that will throw of the effectiveness of the machine learning models"
   ]
  },
  {
   "cell_type": "code",
   "execution_count": 8,
   "id": "93990c7a",
   "metadata": {
    "scrolled": false
   },
   "outputs": [
    {
     "data": {
      "text/plain": [
       "<AxesSubplot:>"
      ]
     },
     "execution_count": 8,
     "metadata": {},
     "output_type": "execute_result"
    },
    {
     "data": {
      "image/png": "[encoded data removed]",
      "text/plain": [
       "<Figure size 432x288 with 1 Axes>"
      ]
     },
     "metadata": {
      "needs_background": "light"
     },
     "output_type": "display_data"
    }
   ],
   "source": [
    "#plot a bar chat to display the class distribution\n",
    "\n",
    "cancer_data['Cancer_Type'].value_counts().plot.bar()"
   ]
  },
  {
   "cell_type": "markdown",
   "id": "31adfe33",
   "metadata": {},
   "source": [
    "# Project By: Princilla Abena Koranteng"
   ]
  },
  {
   "cell_type": "markdown",
   "id": "7a0e165b",
   "metadata": {},
   "source": [
    " \n",
    "## **Data preprocesing** \n",
    "The data is first separated into features and a target variable after which the classes are encoded as numeric type\n"
   ]
  },
  {
   "cell_type": "code",
   "execution_count": 9,
   "id": "03d4b489",
   "metadata": {},
   "outputs": [
    {
     "name": "stdout",
     "output_type": "stream",
     "text": [
      "X\n",
      "   gene_1  gene_2  gene_3    gene_4  gene_5  gene_6  gene_7  gene_8    gene_9  \\\n",
      "0     0.0     0.0     0.0  2.088413     0.0     0.0     0.0     0.0  0.550605   \n",
      "\n",
      "   gene_10  ...  gene_7991  gene_7992  gene_7993  gene_7994  gene_7995  \\\n",
      "0  2.81576  ...   6.883022  11.558803   8.881802    6.01484   6.643534   \n",
      "\n",
      "   gene_7996  gene_7997  gene_7998  gene_7999  gene_8000  \n",
      "0  11.740624   7.065012   9.932659   6.928584   2.088413  \n",
      "\n",
      "[1 rows x 8000 columns]\n",
      "\n",
      "y\n",
      "0    KIRC\n",
      "1    KIRC\n",
      "2    BRCA\n",
      "3    KIRC\n",
      "4    COAD\n",
      "Name: Cancer_Type, dtype: object\n"
     ]
    }
   ],
   "source": [
    "# 1. Separating data into features (X) and the target (y)\n",
    "X = cancer_data.drop(['Cancer_Type'], axis =1)\n",
    "y = cancer_data['Cancer_Type']\n",
    "\n",
    "print('X')\n",
    "print(X.head(1))\n",
    "print()\n",
    "print('y')\n",
    "print(y.head())"
   ]
  },
  {
   "cell_type": "code",
   "execution_count": null,
   "id": "bf36b8de",
   "metadata": {},
   "outputs": [],
   "source": []
  },
  {
   "cell_type": "markdown",
   "id": "264a01cb",
   "metadata": {},
   "source": [
    "\\\n",
    "**Encode labels**\n",
    "\n",
    "The labels for this data are categorical and we therefore have to convert them to numeric forms. This is referred to as encoding. Machine learning models usually require input data to be in numeric forms, hence we encoding the labels."
   ]
  },
  {
   "cell_type": "code",
   "execution_count": 10,
   "id": "b251f08b",
   "metadata": {},
   "outputs": [],
   "source": [
    "#let's encode target labels (y) with values between 0 and n_classes-1.\n",
    "#encoding will be done using the LabelEncoder\n",
    "label_encoder=LabelEncoder()\n",
    "label_encoder.fit(y)\n",
    "y_encoded=label_encoder.transform(y)\n",
    "labels=label_encoder.classes_\n",
    "classes=np.unique(y_encoded)"
   ]
  },
  {
   "cell_type": "code",
   "execution_count": 11,
   "id": "4769ffe6",
   "metadata": {},
   "outputs": [
    {
     "data": {
      "text/plain": [
       "array(['BRCA', 'COAD', 'KIRC', 'LUAD', 'PRAD'], dtype=object)"
      ]
     },
     "execution_count": 11,
     "metadata": {},
     "output_type": "execute_result"
    }
   ],
   "source": [
    "labels"
   ]
  },
  {
   "cell_type": "code",
   "execution_count": 12,
   "id": "8a567de8",
   "metadata": {},
   "outputs": [
    {
     "data": {
      "text/plain": [
       "array([0, 1, 2, 3, 4])"
      ]
     },
     "execution_count": 12,
     "metadata": {},
     "output_type": "execute_result"
    }
   ],
   "source": [
    "classes"
   ]
  },
  {
   "cell_type": "code",
   "execution_count": null,
   "id": "97640002",
   "metadata": {},
   "outputs": [],
   "source": []
  },
  {
   "cell_type": "markdown",
   "id": "5f68c4f6",
   "metadata": {},
   "source": [
    "\\\n",
    "**Data Splitting**\\\n",
    "The data will now split into training and test subsets.\n",
    "The training data is initially passed to the machine learning model during fitting. This is to enable the model to identify patterns which can be used to make future predictions.\n",
    "The testing data is used to evaluate the model after the training phase."
   ]
  },
  {
   "cell_type": "code",
   "execution_count": 13,
   "id": "6fada994",
   "metadata": {},
   "outputs": [],
   "source": [
    "#split data into training and test sets\n",
    "X_train,X_test,y_train,y_test=train_test_split(X,y_encoded,test_size=0.2,random_state = 42)"
   ]
  },
  {
   "cell_type": "markdown",
   "id": "7a1736a7",
   "metadata": {},
   "source": [
    "  "
   ]
  },
  {
   "cell_type": "code",
   "execution_count": 14,
   "id": "57959711",
   "metadata": {},
   "outputs": [],
   "source": [
    "# Defining function that will run models since a similar process will be done for almost all models\n",
    "def runmodel(model,tuning_params,scorer=make_scorer(f1_score,average='weighted'),n_iter=20):\n",
    "    pca=PCA(random_state=0)\n",
    "    sc=StandardScaler()\n",
    "    pipe=Pipeline(steps=[('sc',sc),('pca',pca),('model',model)])\n",
    "    r_search=RandomizedSearchCV(pipe,tuning_params,n_jobs=-1,verbose=-1,scoring=scorer,cv=4,n_iter=n_iter,random_state=2)\n",
    "    r_search.fit(X_train,y_train)\n",
    "    print(r_search.best_estimator_.get_params())\n",
    "    print(classification_report(y_test,r_search.predict(X_test)))"
   ]
  },
  {
   "cell_type": "code",
   "execution_count": 82,
   "id": "502ab5ec",
   "metadata": {},
   "outputs": [],
   "source": [
    "# Defining a function for plotting ROC Curves for the various classifiers\n",
    "def plot_roc(model):\n",
    "    features=list(range(27))\n",
    "    plotter=ROCAUC(model,micro=False,classes=['BRCA','COAD','KIRC','LUAD','PRAD'])\n",
    "    plotter.fit(X_train.values,y_train)\n",
    "    plotter.score(X_test.values,y_test)\n",
    "    plotter.show()"
   ]
  },
  {
   "cell_type": "markdown",
   "id": "988beea5",
   "metadata": {},
   "source": [
    "### Building the model"
   ]
  },
  {
   "cell_type": "markdown",
   "id": "7ca03b28",
   "metadata": {},
   "source": [
    "## KNeighborsClassifier"
   ]
  },
  {
   "cell_type": "code",
   "execution_count": 17,
   "id": "baae97cc",
   "metadata": {},
   "outputs": [],
   "source": [
    "from sklearn.neighbors import KNeighborsClassifier\n",
    "model=KNeighborsClassifier()\n",
    "tuning_params=dict(model__n_neighbors=list(range(3,13)),pca__n_components=list(range(300)))"
   ]
  },
  {
   "cell_type": "code",
   "execution_count": 18,
   "id": "f3fde932",
   "metadata": {},
   "outputs": [
    {
     "name": "stdout",
     "output_type": "stream",
     "text": [
      "{'memory': None, 'steps': [('sc', StandardScaler()), ('pca', PCA(n_components=27, random_state=0)), ('model', KNeighborsClassifier(n_neighbors=12))], 'verbose': False, 'sc': StandardScaler(), 'pca': PCA(n_components=27, random_state=0), 'model': KNeighborsClassifier(n_neighbors=12), 'sc__copy': True, 'sc__with_mean': True, 'sc__with_std': True, 'pca__copy': True, 'pca__iterated_power': 'auto', 'pca__n_components': 27, 'pca__random_state': 0, 'pca__svd_solver': 'auto', 'pca__tol': 0.0, 'pca__whiten': False, 'model__algorithm': 'auto', 'model__leaf_size': 30, 'model__metric': 'minkowski', 'model__metric_params': None, 'model__n_jobs': None, 'model__n_neighbors': 12, 'model__p': 2, 'model__weights': 'uniform'}\n",
      "              precision    recall  f1-score   support\n",
      "\n",
      "           0       0.95      1.00      0.98        60\n",
      "           1       1.00      0.94      0.97        16\n",
      "           2       1.00      1.00      1.00        28\n",
      "           3       0.96      0.92      0.94        24\n",
      "           4       1.00      0.97      0.98        33\n",
      "\n",
      "    accuracy                           0.98       161\n",
      "   macro avg       0.98      0.96      0.97       161\n",
      "weighted avg       0.98      0.98      0.98       161\n",
      "\n"
     ]
    }
   ],
   "source": [
    "runmodel(model,tuning_params,n_iter=30)"
   ]
  },
  {
   "cell_type": "code",
   "execution_count": 77,
   "id": "65d7a6fe",
   "metadata": {},
   "outputs": [],
   "source": [
    "# Based on result of the Randomize search, the optimized hyperparameters are used to create the model\n",
    "knn=KNeighborsClassifier(n_neighbors=12)\n",
    "pca=PCA(n_components=27,random_state=0)\n",
    "sc=StandardScaler()\n",
    "knnpipe=Pipeline(steps=[('sc',sc),('pca',pca),('knn',knn)])"
   ]
  },
  {
   "cell_type": "code",
   "execution_count": 78,
   "id": "ec920229",
   "metadata": {},
   "outputs": [
    {
     "data": {
      "text/plain": [
       "0.9750363300142004"
      ]
     },
     "execution_count": 78,
     "metadata": {},
     "output_type": "execute_result"
    }
   ],
   "source": [
    "knnpipe.fit(X_train.values,y_train)\n",
    "knnf1=f1_score(y_test,knnpipe.predict(X_test.values),average='weighted')\n",
    "knnf1"
   ]
  },
  {
   "cell_type": "code",
   "execution_count": 83,
   "id": "32bd1347",
   "metadata": {},
   "outputs": [
    {
     "data": {
      "image/png": "[encoded data removed]",
      "text/plain": [
       "<Figure size 576x396 with 1 Axes>"
      ]
     },
     "metadata": {},
     "output_type": "display_data"
    }
   ],
   "source": [
    "plot_roc(knnpipe)"
   ]
  },
  {
   "cell_type": "markdown",
   "id": "5153115e",
   "metadata": {},
   "source": [
    "### Logistic Regression"
   ]
  },
  {
   "cell_type": "code",
   "execution_count": null,
   "id": "ed429fc0",
   "metadata": {},
   "outputs": [],
   "source": [
    "from sklearn.linear_model import LogisticRegression\n",
    "model=LogisticRegression(random_state=7,n_jobs=-1,multi_class='multinomial', max_iter=1000,penalty='l2')\n",
    "tuning_params=dict(model__solver=['newton-cg','sag','saga','lbfgs'],\n",
    "                   pca__n_components=list(range(300)))"
   ]
  },
  {
   "cell_type": "code",
   "execution_count": null,
   "id": "8b82cda5",
   "metadata": {},
   "outputs": [],
   "source": [
    "runmodel(model,tuning_params,n_iter=30)"
   ]
  },
  {
   "cell_type": "code",
   "execution_count": null,
   "id": "d0b7732e",
   "metadata": {},
   "outputs": [],
   "source": [
    "# Based on result of the Randomize search, the optimized hyperparameters are used to create the model\n",
    "logreg=LogisticRegression(random_state=7,n_jobs=-1,multi_class='multinomial',penalty='l2',solver='sag', max_iter=1000)\n",
    "pca=PCA(n_components=149,random_state=0)\n",
    "sc=StandardScaler()\n",
    "logregpipe=Pipeline(steps=[('sc',sc),('pca',pca),('logreg',logreg)])"
   ]
  },
  {
   "cell_type": "code",
   "execution_count": null,
   "id": "6bf39c04",
   "metadata": {},
   "outputs": [],
   "source": [
    "logregpipe.fit(X_train.values,y_train)\n",
    "lrf1=f1_score(y_test,logregpipe.predict(X_test.values),average='weighted')\n",
    "lrf1"
   ]
  },
  {
   "cell_type": "code",
   "execution_count": null,
   "id": "95f80737",
   "metadata": {},
   "outputs": [],
   "source": [
    "plot_roc(logregpipe)"
   ]
  },
  {
   "cell_type": "markdown",
   "id": "58c6d53d",
   "metadata": {},
   "source": [
    "### SGDClassifier"
   ]
  },
  {
   "cell_type": "code",
   "execution_count": null,
   "id": "885b7be1",
   "metadata": {},
   "outputs": [],
   "source": [
    "from sklearn.linear_model import SGDClassifier\n",
    "model=SGDClassifier(n_jobs=-1,random_state=20,average=True)\n",
    "tuning_params=dict(pca__n_components=list(range(3,300,1)),model__loss=['hinge','squared_hinge','perceptron'],\n",
    "                model__alpha=np.logspace(0.001,10))"
   ]
  },
  {
   "cell_type": "code",
   "execution_count": null,
   "id": "2cf9dc2f",
   "metadata": {},
   "outputs": [],
   "source": [
    "runmodel(model,tuning_params,n_iter=30)"
   ]
  },
  {
   "cell_type": "code",
   "execution_count": null,
   "id": "7bad8d04",
   "metadata": {},
   "outputs": [],
   "source": [
    "# Based on result of the Randomize search, the optimized hyperparameters are used to create the model\n",
    "sgd=SGDClassifier(random_state=7,n_jobs=-1,alpha=68.79407260342448,loss='hinge',average=True)\n",
    "pca=PCA(n_components=154,random_state=0)\n",
    "sc=StandardScaler()\n",
    "sgdpipe=Pipeline(steps=[('sc',sc),('pca',pca),('sgd',sgd)])"
   ]
  },
  {
   "cell_type": "code",
   "execution_count": null,
   "id": "47897ace",
   "metadata": {},
   "outputs": [],
   "source": [
    "sgdpipe.fit(X_train.values,y_train)\n",
    "sgdf1=f1_score(y_test,sgdpipe.predict(X_test.values),average='weighted')\n",
    "sgdf1"
   ]
  },
  {
   "cell_type": "code",
   "execution_count": null,
   "id": "61bd6c39",
   "metadata": {},
   "outputs": [],
   "source": [
    "plot_roc(sgdpipe)"
   ]
  },
  {
   "cell_type": "markdown",
   "id": "2811365c",
   "metadata": {},
   "source": [
    "### RandomForestClassifier"
   ]
  },
  {
   "cell_type": "code",
   "execution_count": null,
   "id": "2b622ef8",
   "metadata": {},
   "outputs": [],
   "source": [
    "model=RandomForestClassifier(n_jobs=-1,random_state=20,verbose=1)\n",
    "tuning_params=dict(pca__n_components=list(range(3,300,1)),model__n_estimators=[50,70,90,110],\n",
    "                model__criterion=['gini','entropy'],model__max_depth=[2,4,6,8])"
   ]
  },
  {
   "cell_type": "code",
   "execution_count": null,
   "id": "aef90bff",
   "metadata": {},
   "outputs": [],
   "source": [
    "runmodel(model,tuning_params,n_iter=30)"
   ]
  },
  {
   "cell_type": "code",
   "execution_count": null,
   "id": "8b2c1ca6",
   "metadata": {},
   "outputs": [],
   "source": [
    "# Based on result of the Randomize search, the optimized hyperparameters are used to create the model\n",
    "rforest=RandomForestClassifier(random_state=20,n_jobs=-1,n_estimators=70,criterion='gini',max_depth=6)\n",
    "pca=PCA(n_components=57,random_state=0)\n",
    "sc=StandardScaler()\n",
    "rforestpipe=Pipeline(steps=[('sc',sc),('pca',pca),('rforest',rforest)])"
   ]
  },
  {
   "cell_type": "code",
   "execution_count": null,
   "id": "6d95f0a1",
   "metadata": {},
   "outputs": [],
   "source": [
    "rforestpipe.fit(X_train.values,y_train)\n",
    "rff1=f1_score(y_test,rforestpipe.predict(X_test.values),average='weighted')\n",
    "rff1"
   ]
  },
  {
   "cell_type": "code",
   "execution_count": null,
   "id": "600824e9",
   "metadata": {},
   "outputs": [],
   "source": [
    "plot_roc(rforestpipe)"
   ]
  },
  {
   "cell_type": "markdown",
   "id": "3dccc82d",
   "metadata": {},
   "source": [
    "### Decision Tree Classifier"
   ]
  },
  {
   "cell_type": "code",
   "execution_count": null,
   "id": "79519295",
   "metadata": {},
   "outputs": [],
   "source": [
    "from sklearn.tree import DecisionTreeClassifier\n",
    "model=DecisionTreeClassifier(random_state=0)\n",
    "tuning_params=dict(pca__n_components=list(range(3,300,1)),\n",
    "                model__criterion=['gini','entropy'],model__max_depth=list(range(2,8)))"
   ]
  },
  {
   "cell_type": "code",
   "execution_count": null,
   "id": "79812049",
   "metadata": {},
   "outputs": [],
   "source": [
    "runmodel(model,tuning_params,n_iter=30)"
   ]
  },
  {
   "cell_type": "code",
   "execution_count": null,
   "id": "8988d6f3",
   "metadata": {},
   "outputs": [],
   "source": [
    "# Based on result of the Randomize search, the optimized hyperparameters are used to create the model\n",
    "dtree=DecisionTreeClassifier(random_state=0,criterion='entropy',max_depth=6)\n",
    "pca=PCA(n_components=179,random_state=0)\n",
    "sc=StandardScaler()\n",
    "dtreepipe=Pipeline(steps=[('sc',sc),('pca',pca),('dtree',dtree)])"
   ]
  },
  {
   "cell_type": "code",
   "execution_count": null,
   "id": "2da90e4c",
   "metadata": {},
   "outputs": [],
   "source": [
    "dtreepipe.fit(X_train.values,y_train)\n",
    "dtf1=f1_score(y_test,dtreepipe.predict(X_test.values),average='weighted')\n",
    "dtf1"
   ]
  },
  {
   "cell_type": "code",
   "execution_count": null,
   "id": "9e19bdad",
   "metadata": {},
   "outputs": [],
   "source": [
    "plot_roc(dtreepipe)"
   ]
  },
  {
   "cell_type": "markdown",
   "id": "08fbc80a",
   "metadata": {},
   "source": [
    "### VotingClassifier"
   ]
  },
  {
   "cell_type": "code",
   "execution_count": null,
   "id": "505c1af1",
   "metadata": {},
   "outputs": [],
   "source": [
    "from sklearn.metrics import accuracy_score\n",
    "from sklearn.linear_model import LogisticRegression\n",
    "from sklearn.tree import DecisionTreeClassifier\n",
    "from sklearn.neighbors import KNeighborsClassifier as KNN\n",
    "from sklearn.ensemble import VotingClassifier"
   ]
  },
  {
   "cell_type": "code",
   "execution_count": null,
   "id": "56b8ddbd",
   "metadata": {},
   "outputs": [],
   "source": [
    "# Instantiate individual classifiers\n",
    "lr = LogisticRegression(random_state=42, max_iter=1000)\n",
    "knn = KNN()\n",
    "dtr = DecisionTreeClassifier(random_state=42)\n",
    "# Define a list called classifier that contains the tuples (classifier_name, classifier)\n",
    "classifiers = [('Logistic Regression', lr),\n",
    "('K Nearest Neighbours', knn),\n",
    "('Classification Tree', dtr)]"
   ]
  },
  {
   "cell_type": "code",
   "execution_count": null,
   "id": "77c405c8",
   "metadata": {},
   "outputs": [],
   "source": [
    "# Iterate over the defined list of tuples containing the classifiers\n",
    "for clf_name, clf in classifiers:\n",
    "        #fit clf to the training set\n",
    "        clf.fit(X_train, y_train)"
   ]
  },
  {
   "cell_type": "code",
   "execution_count": null,
   "id": "f002f233",
   "metadata": {},
   "outputs": [],
   "source": [
    "model=VotingClassifier(estimators=classifiers,n_jobs=-1)\n",
    "tuning_params=dict(pca__n_components=list(range(3,300,1)),\n",
    "                model__voting=['hard','soft'])\n"
   ]
  },
  {
   "cell_type": "code",
   "execution_count": null,
   "id": "1539e097",
   "metadata": {},
   "outputs": [],
   "source": [
    "runmodel(model,tuning_params,n_iter=30)"
   ]
  },
  {
   "cell_type": "code",
   "execution_count": null,
   "id": "8e12873a",
   "metadata": {},
   "outputs": [],
   "source": [
    "# Based on result of the Randomize search, the optimized hyperparameters are used to create the model\n",
    "vc=VotingClassifier(estimators=classifiers,n_jobs=-1,voting='soft')\n",
    "pca=PCA(n_components=245,random_state=0)\n",
    "sc=StandardScaler()\n",
    "vcpipe=Pipeline(steps=[('sc',sc),('pca',pca),('vc',vc)])"
   ]
  },
  {
   "cell_type": "code",
   "execution_count": null,
   "id": "e335a3ce",
   "metadata": {},
   "outputs": [],
   "source": [
    "vcpipe.fit(X_train.values,y_train)\n",
    "vcf1=f1_score(y_test,vcpipe.predict(X_test.values),average='weighted')\n",
    "vcf1"
   ]
  },
  {
   "cell_type": "code",
   "execution_count": null,
   "id": "ca298745",
   "metadata": {},
   "outputs": [],
   "source": [
    "plot_roc(vcpipe)"
   ]
  },
  {
   "cell_type": "markdown",
   "id": "a3fa010b",
   "metadata": {},
   "source": [
    "### XGBoost"
   ]
  },
  {
   "cell_type": "code",
   "execution_count": null,
   "id": "ce6e2ed6",
   "metadata": {},
   "outputs": [],
   "source": [
    "# Installing XGBoost\n",
    "!pip install xgboost"
   ]
  },
  {
   "cell_type": "code",
   "execution_count": null,
   "id": "a475f2ff",
   "metadata": {},
   "outputs": [],
   "source": [
    "# import XGBoost\n",
    "import xgboost as xgb\n",
    "model=xgb.XGBClassifier(random_state=5,num_class=5,as_pandas=True,early_stopping_round=10,num_boost_round=10,\n",
    "                        objective='multi:softmax')\n",
    "tuning_params=dict(pca__n_components=list(range(3,300,1)),model__colsample_bytree=[0.2,0.4,0.6,0.8],\n",
    "                   model__n_estimators=[30,50,70,90],model__max_depth=[2,4,6,8,10])"
   ]
  },
  {
   "cell_type": "code",
   "execution_count": null,
   "id": "7e984007",
   "metadata": {},
   "outputs": [],
   "source": [
    "runmodel(model,tuning_params,n_iter=30)"
   ]
  },
  {
   "cell_type": "code",
   "execution_count": null,
   "id": "732490ae",
   "metadata": {},
   "outputs": [],
   "source": [
    "# Based on result of the Randomize search, the optimized hyperparameters are used to create the model\n",
    "xgb=xgb.XGBClassifier(random_state=5,num_class=5,objective='multi:softmax',colsample_bytree=0.4,n_estimators=70,max_depth=2)\n",
    "pca=PCA(n_components=106,random_state=0)\n",
    "sc=StandardScaler()\n",
    "xgbpipe=Pipeline(steps=[('sc',sc),('pca',pca),('xgb',xgb)])"
   ]
  },
  {
   "cell_type": "code",
   "execution_count": null,
   "id": "000ebf40",
   "metadata": {},
   "outputs": [],
   "source": [
    "xgbpipe.fit(X_train.values,y_train)\n",
    "xgbf1=f1_score(y_test,xgbpipe.predict(X_test.values),average='weighted')\n",
    "xgbf1"
   ]
  },
  {
   "cell_type": "code",
   "execution_count": null,
   "id": "e114cb02",
   "metadata": {},
   "outputs": [],
   "source": [
    "plot_roc(xgbpipe)"
   ]
  },
  {
   "cell_type": "markdown",
   "id": "8fafef56",
   "metadata": {},
   "source": [
    "### BaggingClassifier"
   ]
  },
  {
   "cell_type": "code",
   "execution_count": null,
   "id": "a4828735",
   "metadata": {},
   "outputs": [],
   "source": [
    "from sklearn.ensemble import BaggingClassifier\n",
    "\n",
    "# instantiating a DecisionTreeClassifier as a base model\n",
    "dt = DecisionTreeClassifier(max_depth = 4, random_state =123)\n",
    "model = BaggingClassifier(base_estimator=dt,n_jobs = -1)\n",
    "tuning_params=dict(pca__n_components=list(range(3,300,1)),model__max_samples=[0.2,0.4,0.6,0.8],\n",
    "                   model__n_estimators=list(range(400)))"
   ]
  },
  {
   "cell_type": "code",
   "execution_count": null,
   "id": "f74a6b79",
   "metadata": {},
   "outputs": [],
   "source": [
    "runmodel(model,tuning_params,n_iter=30)"
   ]
  },
  {
   "cell_type": "code",
   "execution_count": null,
   "id": "255fba84",
   "metadata": {},
   "outputs": [],
   "source": [
    "# Based on result of the Randomize search, the optimized hyperparameters are used to create the model\n",
    "bag=BaggingClassifier(base_estimator=dt,n_jobs=-1,n_estimators=114,max_samples=0.2)\n",
    "pca=PCA(n_components=12,random_state=0)\n",
    "sc=StandardScaler()\n",
    "bagpipe=Pipeline(steps=[('sc',sc),('pca',pca),('bag',bag)])"
   ]
  },
  {
   "cell_type": "code",
   "execution_count": null,
   "id": "2ee604f5",
   "metadata": {},
   "outputs": [],
   "source": [
    "bagpipe.fit(X_train.values,y_train)\n",
    "bagf1=f1_score(y_test,bagpipe.predict(X_test.values),average='weighted')\n",
    "bagf1"
   ]
  },
  {
   "cell_type": "code",
   "execution_count": null,
   "id": "45b7fa6e",
   "metadata": {},
   "outputs": [],
   "source": [
    "plot_roc(bagpipe)"
   ]
  },
  {
   "cell_type": "markdown",
   "id": "d92d9902",
   "metadata": {},
   "source": [
    "### SVC"
   ]
  },
  {
   "cell_type": "code",
   "execution_count": null,
   "id": "84136f5c",
   "metadata": {},
   "outputs": [],
   "source": [
    "from sklearn.svm import SVC \n",
    "model = SVC(random_state=9,decision_function_shape='ovo')\n",
    "tuning_params=dict(pca__n_components=list(range(3,300,1)),model__C=[0.2,0.4,0.6,0.8],\n",
    "                   model__kernel=['rbf','poly','sigmoid'],model__degree=list(range(3,5)))"
   ]
  },
  {
   "cell_type": "code",
   "execution_count": null,
   "id": "dd182b0c",
   "metadata": {},
   "outputs": [],
   "source": [
    "runmodel(model,tuning_params,n_iter=30)"
   ]
  },
  {
   "cell_type": "code",
   "execution_count": null,
   "id": "a9c8c7c2",
   "metadata": {},
   "outputs": [],
   "source": [
    "# Based on result of the Randomize search, the optimized hyperparameters are used to create the model\n",
    "svc=SVC(random_state=9,decision_function_shape='ovo',degree=3,kernel='sigmoid',C=0.4)\n",
    "pca=PCA(n_components=262,random_state=0)\n",
    "sc=StandardScaler()\n",
    "svcpipe=Pipeline(steps=[('sc',sc),('pca',pca),('svc',svc)])"
   ]
  },
  {
   "cell_type": "code",
   "execution_count": null,
   "id": "03aaece0",
   "metadata": {},
   "outputs": [],
   "source": [
    "svcpipe.fit(X_train.values,y_train)\n",
    "svcf1=f1_score(y_test,svcpipe.predict(X_test.values),average='weighted')\n",
    "svcf1"
   ]
  },
  {
   "cell_type": "code",
   "execution_count": null,
   "id": "cf3b1560",
   "metadata": {},
   "outputs": [],
   "source": [
    "plot_roc(svcpipe)"
   ]
  },
  {
   "cell_type": "markdown",
   "id": "65c52291",
   "metadata": {},
   "source": [
    "### AdaBoostClassifier"
   ]
  },
  {
   "cell_type": "code",
   "execution_count": null,
   "id": "674c3a1a",
   "metadata": {},
   "outputs": [],
   "source": [
    "from sklearn.ensemble import AdaBoostClassifier\n",
    "model=AdaBoostClassifier(random_state=132)\n",
    "tuning_params=dict(pca__n_components=list(range(3,300,1)),model__learning_rate=[0.2,0.4,0.6,0.8,1.0],\n",
    "                   model__n_estimators=list(range(350)))"
   ]
  },
  {
   "cell_type": "code",
   "execution_count": null,
   "id": "e75e3d82",
   "metadata": {},
   "outputs": [],
   "source": [
    "runmodel(model,tuning_params,n_iter=30)"
   ]
  },
  {
   "cell_type": "code",
   "execution_count": null,
   "id": "1fd78dae",
   "metadata": {},
   "outputs": [],
   "source": [
    "# Based on result of the Randomize search, the optimized hyperparameters are used to create the model\n",
    "ada=AdaBoostClassifier(random_state=11,learning_rate=0.4,n_estimators=334)\n",
    "pca=PCA(n_components=334,random_state=0)\n",
    "sc=StandardScaler()\n",
    "adapipe=Pipeline(steps=[('sc',sc),('pca',pca),('ada',ada)])"
   ]
  },
  {
   "cell_type": "code",
   "execution_count": null,
   "id": "a3bc0021",
   "metadata": {},
   "outputs": [],
   "source": [
    "adapipe.fit(X_train.values,y_train)\n",
    "adaf1=f1_score(y_test,adapipe.predict(X_test.values),average='weighted')\n",
    "adaf1"
   ]
  },
  {
   "cell_type": "code",
   "execution_count": null,
   "id": "1cb9c489",
   "metadata": {},
   "outputs": [],
   "source": [
    "plot_roc(adapipe)"
   ]
  },
  {
   "cell_type": "markdown",
   "id": "f1dc4a1a",
   "metadata": {},
   "source": [
    "# RESULT"
   ]
  },
  {
   "cell_type": "code",
   "execution_count": null,
   "id": "b6fe4ebc",
   "metadata": {},
   "outputs": [],
   "source": [
    "f1_dict={\"Model\":['AdaBoost','KNeighbors Classifier','LogisticRegression','SGDClassifier','RandomForestClassifier',\n",
    "                 'DecisionTreeClassifier','VotingClassifier','XGBoostClassifier','BaggingClassifier','SVC'],\n",
    "        \"F1_Scores\":[adaf1,knnf1,lrf1,sgdf1,rff1,dtf1,vcf1,xgbf1,bagf1,svcf1]}\n",
    "f1_df=pd.DataFrame.from_dict(f1_dict)"
   ]
  },
  {
   "cell_type": "code",
   "execution_count": null,
   "id": "ae3daa1a",
   "metadata": {},
   "outputs": [],
   "source": [
    "f1_df.plot.bar(x='Model',y='F1_Scores')"
   ]
  },
  {
   "cell_type": "markdown",
   "id": "a1980494",
   "metadata": {},
   "source": [
    "Based on the f1 scores of the various models, the top two models are LogisticRegression(logregpipe) with f1_score of 1.0 and XGBoost(xgbpipe) with f1 score of 0.993817\n",
    "\n",
    "XGBoost is however closely followed by SVC(svcpipe)"
   ]
  },
  {
   "cell_type": "markdown",
   "id": "3be2b966",
   "metadata": {},
   "source": [
    "# Project By: Princilla Abena Koranteng"
   ]
  },
  {
   "cell_type": "markdown",
   "id": "ed9e2868",
   "metadata": {},
   "source": [
    "# THANK YOU"
   ]
  },
  {
   "cell_type": "code",
   "execution_count": null,
   "id": "ba4e3799",
   "metadata": {},
   "outputs": [],
   "source": []
  },
  {
   "cell_type": "code",
   "execution_count": null,
   "id": "4ead6428",
   "metadata": {},
   "outputs": [],
   "source": []
  }
 ],
 "metadata": {
  "kernelspec": {
   "display_name": "Python 3 (ipykernel)",
   "language": "python",
   "name": "python3"
  },
  "language_info": {
   "codemirror_mode": {
    "name": "ipython",
    "version": 3
   },
   "file_extension": ".py",
   "mimetype": "text/x-python",
   "name": "python",
   "nbconvert_exporter": "python",
   "pygments_lexer": "ipython3",
   "version": "3.9.12"
  }
 },
 "nbformat": 4,
 "nbformat_minor": 5
}
